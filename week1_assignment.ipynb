{
  "nbformat": 4,
  "nbformat_minor": 0,
  "metadata": {
    "colab": {
      "name": "week1_assignment",
      "version": "0.3.2",
      "provenance": [],
      "collapsed_sections": [],
      "include_colab_link": true
    },
    "kernelspec": {
      "name": "python3",
      "display_name": "Python 3"
    }
  },
  "cells": [
    {
      "cell_type": "markdown",
      "metadata": {
        "id": "view-in-github",
        "colab_type": "text"
      },
      "source": [
        "<a href=\"https://colab.research.google.com/github/shireendeshmukh/python/blob/master/week1_assignment.ipynb\" target=\"_parent\"><img src=\"https://colab.research.google.com/assets/colab-badge.svg\" alt=\"Open In Colab\"/></a>"
      ]
    },
    {
      "metadata": {
        "id": "l_Vg5FBbHd_n",
        "colab_type": "code",
        "colab": {
          "base_uri": "https://localhost:8080/",
          "height": 646
        },
        "outputId": "8c83f95f-816c-488b-bc67-741ed0d3891d"
      },
      "cell_type": "code",
      "source": [
        "#-------------------- INTRODUCTION ---------------------------------------------\n",
        "usrnm=input (\"Good Evening! May I know your name, please? :\")\n",
        "print (\"Welcome \", usrnm, \"to the Canada Quiz. Pleasure to have you here!\",\"\\nYou will be asked three questions in this quiz. Each question has points associated and you have to answer those correctly to get maximum points\",\"\\nLet’s begin!\")\n",
        "\n",
        "readyCheck1 = input (\"Are you ready, please press 1:  \")\n",
        "\n",
        "#----------- Quiz #1 ask, show option, score keep and print result--------------\n",
        "print (\"\\nQuestion #1: Which is the most ranked famous city in Canada?\", \"\\nYour answer 2has stacked ranking and gets points on scale of 10 to 40; 40 being for most famous city!\") \n",
        "cityList =[\"1. Toronto\",\"2. Quebec\",\"3. Vancouver\",\"4. Winnipeg\"]\n",
        "for i in cityList:\n",
        "\tprint (i)\n",
        "ans1 = input (\"Your answer for first question is: \")\n",
        "score=0 #global variable declaration\n",
        "if ans1==\"1\" or ans1==\"Toronto\":\n",
        "   score=score+40\n",
        "elif ans1==\"2\" or ans1==\"Quebec\":\n",
        "   score=score+30\n",
        "elif ans1==\"3\" or ans1==\"Vancouver\":\n",
        "   score=score+20\n",
        "elif ans1==\"4\" or ans1==\"Winnipeg\":\n",
        "   score=score+10\n",
        "else:\n",
        "   print (\"Answer undefined, let's try one more time!\")\n",
        "   ans1 = input (\"Your answer for first question is: \")\n",
        "  \n",
        "print (\"Congratulations \", usrnm, \"your score at step#1 is: \", score)\n",
        "readyCheck2 = input (\"\\nLet's move to next question... Are you ready, please press 1:  \")\n",
        "#--------------------- Question #2 ---------------------------------------------\n",
        "print (\"\\nQuestion #2: What’s capital of Canada?\") \n",
        "cityList2 =[\"1. Toronto\",\"2. Ottawa\",\"3. None of the above!\"]\n",
        "for i in cityList2:\n",
        "  print (i)\n",
        "ans2 = input (\"\\nYour answer for second question is: \")\n",
        "if ans2== \"Ottawa\" or ans2== \"2\":\n",
        " score=score+20\n",
        "elif ans2== \"Toronto\" or ans2== \"1\":\n",
        "  score=score-5\n",
        "else:\n",
        "  score=score-5\n",
        "print (\"Keep going \", usrnm, \"your score at step#2 is: \", score)\n",
        "readyCheck2 = input (\"\\nLet's move to next question... Are you ready, please press 1:  \")\n",
        "#--------------------- Question #3 ---------------------------------------------\n",
        "print (\"\\nQuestion #3: Where is the GM plant located in Canada?\") \n",
        "cityList3 =[\"1. London\",\"2. Oshawa\",\"3. Burlignton\", \"4. Richmond\"]\n",
        "for i in cityList3:\n",
        "  print (i)\n",
        "ans3 = input (\"\\nYour answer for third question is: \")\n",
        "if ans2== \"Oshawa\" or ans2== \"2\":\n",
        "  score=score+20\n",
        "else:\n",
        "  score=score-5\n",
        "\n",
        "readyCheck2 = input (\"\\nThat's all... Are you ready to see your final score, please press 1:  \")\n",
        "print (\"Your final score \", usrnm, \"at step#3 is: \", score)\n",
        "print (\"\\Thank you for participating; have a nice warm day ahead!\")\n",
        "#--------------------- End of Puzzle -------------------------------------------\n",
        "\n",
        "  \n"
      ],
      "execution_count": 37,
      "outputs": [
        {
          "output_type": "stream",
          "text": [
            "Good Evening! May I know your name, please? :shireen\n",
            "Welcome  shireen to the Canada Quiz. Pleasure to have you here! \n",
            "You will be asked three questions in this quiz. Each question has points associated and you have to answer those correctly to get maximum points \n",
            "Let’s begin!\n",
            "Are you ready, please press 1:  1\n",
            "\n",
            "Question #1: Which is ranked famous city in Toronto? \n",
            "Your answer city has stacked ranking and gets points on scale of 10 to 40; 40 being for most famous city!\n",
            "1. Toronto\n",
            "2. Quebec\n",
            "3. Vancouver\n",
            "4. Winnipeg\n",
            "Your answer for first question is: 2\n",
            "Congratulations  shireen your score at step#1 is:  30\n",
            "\n",
            "Let's move to next question... Are you ready, please press 1:  1\n",
            "\n",
            "Question #2: What’s capital of Canada?\n",
            "1. Toronto\n",
            "2. Ottawa\n",
            "3. None of the above!\n",
            "\n",
            "Your answer for second question is: 2\n",
            "Keep going  shireen your score at step#2 is:  50\n",
            "\n",
            "Let's move to next question... Are you ready, please press 1:  1\n",
            "\n",
            "Question #3: Where is the GM plant located in Canada?\n",
            "1. London\n",
            "2. Oshawa\n",
            "3. Burlignton\n",
            "4. Richmond\n",
            "\n",
            "Your answer for third question is: 2\n",
            "\n",
            "That's all... Are you ready to see your final score, please press 1:  1\n",
            "Your final score  shireen at step#3 is:  70\n"
          ],
          "name": "stdout"
        }
      ]
    }
  ]
}