{
  "nbformat": 4,
  "nbformat_minor": 0,
  "metadata": {
    "colab": {
      "name": "wk2_assignment",
      "version": "0.3.2",
      "provenance": [],
      "collapsed_sections": [],
      "include_colab_link": true
    },
    "kernelspec": {
      "name": "python3",
      "display_name": "Python 3"
    }
  },
  "cells": [
    {
      "cell_type": "markdown",
      "metadata": {
        "id": "view-in-github",
        "colab_type": "text"
      },
      "source": [
        "<a href=\"https://colab.research.google.com/github/shireendeshmukh/python/blob/master/wk2_assignment.ipynb\" target=\"_parent\"><img src=\"https://colab.research.google.com/assets/colab-badge.svg\" alt=\"Open In Colab\"/></a>"
      ]
    },
    {
      "metadata": {
        "id": "SwoKuzGY4SGS",
        "colab_type": "code",
        "outputId": "62bc3dc6-d5eb-4502-92a9-716c28711db5",
        "colab": {
          "base_uri": "https://localhost:8080/",
          "height": 615
        }
      },
      "cell_type": "code",
      "source": [
        "#import Pandas library\n",
        "import pandas as pd\n",
        "#get count of cities user wants to enter\n",
        "n=int (input(\"totl entries:\"))\n",
        "print (n)\n",
        "#delcare blank arrays\n",
        "city=[]\n",
        "population=[]\n",
        "#get city names from user & print city names\n",
        "for i in range (n):\n",
        "\tx=input\t(\"enter city name: \")\n",
        "\tcity.insert\t(i,x)\n",
        "\ti=i+1\n",
        "print (city)\n",
        "#get city population based on city names & print population\n",
        "j=0\n",
        "while j < n:\n",
        "\ty=int (input(print (\"For\", city[j], \"what's population: \")))\n",
        "\tpopulation.insert(j,y)\n",
        "\tj=j+1\n",
        "print (population)\n",
        "#insert the arrays into pd series; ensure to add them as list!\n",
        "city_series = pd.Series(list(city))\n",
        "population_series=pd.Series(list(population))\n",
        "#check printing city and their population\n",
        "print (city_series)\n",
        "print (population_series)\n",
        "#print city name and it's population in the format with axis and headers as keys\n",
        "pd.concat([city_series,population_series], axis=1, keys=['s/n', 'name', 'count'])\n"
      ],
      "execution_count": 27,
      "outputs": [
        {
          "output_type": "stream",
          "text": [
            "totl entries:4\n",
            "4\n",
            "enter city name: dallas\n",
            "enter city name: vegas\n",
            "enter city name: edison\n",
            "enter city name: mumbai\n",
            "['dallas', 'vegas', 'edison', 'mumbai']\n",
            "For dallas what's population: \n",
            "None1000\n",
            "For vegas what's population: \n",
            "None2000\n",
            "For edison what's population: \n",
            "None3000\n",
            "For mumbai what's population: \n",
            "None4000\n",
            "[1000, 2000, 3000, 4000]\n",
            "0    dallas\n",
            "1     vegas\n",
            "2    edison\n",
            "3    mumbai\n",
            "dtype: object\n",
            "0    1000\n",
            "1    2000\n",
            "2    3000\n",
            "3    4000\n",
            "dtype: int64\n"
          ],
          "name": "stdout"
        },
        {
          "output_type": "execute_result",
          "data": {
            "text/html": [
              "<div>\n",
              "<style scoped>\n",
              "    .dataframe tbody tr th:only-of-type {\n",
              "        vertical-align: middle;\n",
              "    }\n",
              "\n",
              "    .dataframe tbody tr th {\n",
              "        vertical-align: top;\n",
              "    }\n",
              "\n",
              "    .dataframe thead th {\n",
              "        text-align: right;\n",
              "    }\n",
              "</style>\n",
              "<table border=\"1\" class=\"dataframe\">\n",
              "  <thead>\n",
              "    <tr style=\"text-align: right;\">\n",
              "      <th></th>\n",
              "      <th>s/n</th>\n",
              "      <th>name</th>\n",
              "    </tr>\n",
              "  </thead>\n",
              "  <tbody>\n",
              "    <tr>\n",
              "      <th>0</th>\n",
              "      <td>dallas</td>\n",
              "      <td>1000</td>\n",
              "    </tr>\n",
              "    <tr>\n",
              "      <th>1</th>\n",
              "      <td>vegas</td>\n",
              "      <td>2000</td>\n",
              "    </tr>\n",
              "    <tr>\n",
              "      <th>2</th>\n",
              "      <td>edison</td>\n",
              "      <td>3000</td>\n",
              "    </tr>\n",
              "    <tr>\n",
              "      <th>3</th>\n",
              "      <td>mumbai</td>\n",
              "      <td>4000</td>\n",
              "    </tr>\n",
              "  </tbody>\n",
              "</table>\n",
              "</div>"
            ],
            "text/plain": [
              "      s/n  name\n",
              "0  dallas  1000\n",
              "1   vegas  2000\n",
              "2  edison  3000\n",
              "3  mumbai  4000"
            ]
          },
          "metadata": {
            "tags": []
          },
          "execution_count": 27
        }
      ]
    },
    {
      "metadata": {
        "id": "i--FQ9RxMPVN",
        "colab_type": "code",
        "colab": {
          "base_uri": "https://localhost:8080/",
          "height": 187
        },
        "outputId": "f79d9f04-e120-4b2c-ab61-929c43e8cfa8"
      },
      "cell_type": "code",
      "source": [
        "import pandas as pd\n",
        "\n",
        "city=[]\n",
        "city=[]\n",
        "\n",
        "n=int (input(\"totl entries:\"))\n",
        "print (n)\n",
        "\n",
        "for i in range (n):\n",
        "\tx=input\t(\"enter city name: \")\n",
        "\tcity.insert\t(i,x)\n",
        "\ti=i+1\n",
        "print (city)\n",
        "serCity = pd.Series(list(city))\n",
        "print (serCity)\n",
        "\n",
        "\n"
      ],
      "execution_count": 24,
      "outputs": [
        {
          "output_type": "stream",
          "text": [
            "totl entries:3\n",
            "3\n",
            "enter city name: qq\n",
            "enter city name: dd\n",
            "enter city name: rr\n",
            "['qq', 'dd', 'rr']\n",
            "0    qq\n",
            "1    dd\n",
            "2    rr\n",
            "dtype: object\n"
          ],
          "name": "stdout"
        }
      ]
    },
    {
      "metadata": {
        "id": "J-i6ZKdzO3So",
        "colab_type": "code",
        "colab": {
          "base_uri": "https://localhost:8080/",
          "height": 102
        },
        "outputId": "2413c923-726e-498e-bbe6-16188a1aacb3"
      },
      "cell_type": "code",
      "source": [
        "CityName= pd.Series(['Ottawa', 'Toronto', 'Montreal', 'London'])\n",
        "CityPopulation=pd.Series(['100','200','300','400'])\n",
        "print (CityName)"
      ],
      "execution_count": 14,
      "outputs": [
        {
          "output_type": "stream",
          "text": [
            "0      Ottawa\n",
            "1     Toronto\n",
            "2    Montreal\n",
            "3      London\n",
            "dtype: object\n"
          ],
          "name": "stdout"
        }
      ]
    }
  ]
}