{
  "nbformat": 4,
  "nbformat_minor": 0,
  "metadata": {
    "colab": {
      "name": "wk3_homeWork",
      "version": "0.3.2",
      "provenance": [],
      "collapsed_sections": [],
      "include_colab_link": true
    },
    "kernelspec": {
      "name": "python3",
      "display_name": "Python 3"
    }
  },
  "cells": [
    {
      "cell_type": "markdown",
      "metadata": {
        "id": "view-in-github",
        "colab_type": "text"
      },
      "source": [
        "<a href=\"https://colab.research.google.com/github/shireendeshmukh/python/blob/master/wk3_homeWork.ipynb\" target=\"_parent\"><img src=\"https://colab.research.google.com/assets/colab-badge.svg\" alt=\"Open In Colab\"/></a>"
      ]
    },
    {
      "metadata": {
        "id": "wdSWrQnBq1CA",
        "colab_type": "text"
      },
      "cell_type": "markdown",
      "source": [
        "####Adding Import Statements (requests, BeautifulSoup)\n",
        "\n"
      ]
    },
    {
      "metadata": {
        "id": "8VxGr9wQp-SZ",
        "colab_type": "code",
        "colab": {}
      },
      "cell_type": "code",
      "source": [
        "import requests\n",
        "from bs4 import BeautifulSoup"
      ],
      "execution_count": 0,
      "outputs": []
    },
    {
      "metadata": {
        "id": "XyHpzHnErZWH",
        "colab_type": "text"
      },
      "cell_type": "markdown",
      "source": [
        "#### Get the page URL"
      ]
    },
    {
      "metadata": {
        "id": "3e5C4TjTrXIP",
        "colab_type": "code",
        "colab": {}
      },
      "cell_type": "code",
      "source": [
        "page=requests.get(\"https://www.cbc.ca/\")"
      ],
      "execution_count": 0,
      "outputs": []
    },
    {
      "metadata": {
        "id": "BtoWF-8LsGvP",
        "colab_type": "text"
      },
      "cell_type": "markdown",
      "source": [
        "#### Use BeautiFulSoup to get structure content from Web page"
      ]
    },
    {
      "metadata": {
        "id": "aG_6iGX1sPJm",
        "colab_type": "code",
        "colab": {}
      },
      "cell_type": "code",
      "source": [
        "soup=BeautifulSoup(page.text, 'html.parser')\n",
        "\n",
        "pageTitle=soup.title.contents[0]\n",
        "print (pageTitle)\n",
        "\n",
        "pagePrgrph=soup.p.contents[0]\n",
        "print (pagePrgrph)\n",
        "\n",
        "pageWebsites=soup.find_all('a') #get all the href from the webpage\n",
        "for i in websites:\n",
        "  i=i[\"href\"]\n",
        "  print (i)"
      ],
      "execution_count": 0,
      "outputs": []
    },
    {
      "metadata": {
        "id": "ccVvTyEntsqO",
        "colab_type": "text"
      },
      "cell_type": "markdown",
      "source": [
        "#### Get all images"
      ]
    },
    {
      "metadata": {
        "id": "slY3j-dztv4l",
        "colab_type": "code",
        "colab": {
          "base_uri": "https://localhost:8080/",
          "height": 34
        },
        "outputId": "8fff2f4b-a8e1-46ee-db48-9dc1ebfb421d"
      },
      "cell_type": "code",
      "source": [
        "pageImages=soup.find_all('img')\n",
        "\n",
        "len(pageImages)"
      ],
      "execution_count": 23,
      "outputs": [
        {
          "output_type": "execute_result",
          "data": {
            "text/plain": [
              "48"
            ]
          },
          "metadata": {
            "tags": []
          },
          "execution_count": 23
        }
      ]
    },
    {
      "metadata": {
        "id": "ZfPQw6btvvmP",
        "colab_type": "text"
      },
      "cell_type": "markdown",
      "source": [
        "#### define download function"
      ]
    },
    {
      "metadata": {
        "id": "gDy9f3h3vu1t",
        "colab_type": "code",
        "colab": {}
      },
      "cell_type": "code",
      "source": [
        "def download_image(url, filename):\n",
        "  img = requests.get(url)\n",
        "  \n",
        "  with open(filename, \"wb\") as code:\n",
        "    code.write(img.content)"
      ],
      "execution_count": 0,
      "outputs": []
    },
    {
      "metadata": {
        "id": "KbQYw2Uvv9hH",
        "colab_type": "text"
      },
      "cell_type": "markdown",
      "source": [
        "#### Call function by providing arguments like URL and Filename"
      ]
    },
    {
      "metadata": {
        "id": "vvhrolGnv5MW",
        "colab_type": "code",
        "colab": {}
      },
      "cell_type": "code",
      "source": [
        "for i in range (len(pageImages)):\n",
        "  img_url=pageImages[i][\"src\"]                                                      #get the source link of the image by making check on source\n",
        "  download_image(img_url, \"img{}.png\".format(i))                                    #call function, provide URL and indexed name of filename for for loop"
      ],
      "execution_count": 0,
      "outputs": []
    }
  ]
}